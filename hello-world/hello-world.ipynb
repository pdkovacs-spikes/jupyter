{
 "cells": [
  {
   "cell_type": "code",
   "execution_count": null,
   "id": "0ece8cba-49b2-4c3e-971b-4038a198bf02",
   "metadata": {},
   "outputs": [],
   "source": [
    "import matplotlib.pyplot as plt\n",
    "import numpy as np\n",
    "\n",
    "plt.style.use('_mpl-gallery') \n",
    "\n",
    "x = np.linspace(-2 * np.pi, 2 * np.pi, 1000)\n",
    "y = np.sin(x)\n",
    "y2 = x - np.power(x, 3) / 6 + np.power(x, 5) / 120\n",
    "\n",
    "plt.figure().set_figwidth(15)\n",
    "plt.plot(x, y, 'g')\n",
    "plt.plot(x, y2, 'b')\n",
    "plt.ylim(-2, 2)\n",
    "\n",
    "plt.xlabel('some numbers - x')\n",
    "plt.ylabel('some numbers - y')\n",
    "plt.show()"
   ]
  },
  {
   "cell_type": "code",
   "execution_count": null,
   "id": "7f720776-f779-4ad1-8f0f-c895b1ceacd7",
   "metadata": {},
   "outputs": [],
   "source": [
    "np.pi"
   ]
  },
  {
   "cell_type": "code",
   "execution_count": null,
   "id": "80ab5d0d-98e1-499e-bafb-38a27762373f",
   "metadata": {},
   "outputs": [],
   "source": []
  }
 ],
 "metadata": {
  "kernelspec": {
   "display_name": ".venv",
   "language": "python",
   "name": "python3"
  },
  "language_info": {
   "codemirror_mode": {
    "name": "ipython",
    "version": 3
   },
   "file_extension": ".py",
   "mimetype": "text/x-python",
   "name": "python",
   "nbconvert_exporter": "python",
   "pygments_lexer": "ipython3",
   "version": "3.13.0"
  }
 },
 "nbformat": 4,
 "nbformat_minor": 5
}
